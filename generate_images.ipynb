{
 "cells": [
  {
   "cell_type": "code",
   "execution_count": null,
   "metadata": {
    "execution": {
     "iopub.execute_input": "2023-04-29T14:32:45.222230Z",
     "iopub.status.busy": "2023-04-29T14:32:45.221817Z",
     "iopub.status.idle": "2023-04-29T14:33:04.698450Z",
     "shell.execute_reply": "2023-04-29T14:33:04.697197Z",
     "shell.execute_reply.started": "2023-04-29T14:32:45.222145Z"
    },
    "trusted": true
   },
   "outputs": [],
   "source": [
    "#!pip install --upgrade diffusers transformers -q"
   ]
  },
  {
   "cell_type": "code",
   "execution_count": null,
   "metadata": {
    "_cell_guid": "b1076dfc-b9ad-4769-8c92-a6c4dae69d19",
    "_uuid": "8f2839f25d086af736a60e9eeb907d3b93b6e0e5",
    "execution": {
     "iopub.execute_input": "2023-04-29T14:33:04.702607Z",
     "iopub.status.busy": "2023-04-29T14:33:04.702273Z",
     "iopub.status.idle": "2023-04-29T14:33:16.542589Z",
     "shell.execute_reply": "2023-04-29T14:33:16.541539Z",
     "shell.execute_reply.started": "2023-04-29T14:33:04.702575Z"
    },
    "trusted": true
   },
   "outputs": [],
   "source": [
    "import numpy as np\n",
    "import pandas as pd\n",
    "from PIL import Image\n",
    "from tqdm.auto import tqdm\n",
    "from pathlib import Path\n",
    "import torch\n",
    "from diffusers import StableDiffusionPipeline\n",
    "from transformers import pipeline, set_seed\n",
    "from kaggle_secrets import UserSecretsClient"
   ]
  },
  {
   "cell_type": "code",
   "execution_count": null,
   "metadata": {
    "execution": {
     "iopub.execute_input": "2023-04-29T14:37:58.209880Z",
     "iopub.status.busy": "2023-04-29T14:37:58.209173Z",
     "iopub.status.idle": "2023-04-29T14:37:58.323438Z",
     "shell.execute_reply": "2023-04-29T14:37:58.322465Z",
     "shell.execute_reply.started": "2023-04-29T14:37:58.209844Z"
    },
    "trusted": true
   },
   "outputs": [],
   "source": [
    "df_train = pd.read_csv(\"/kaggle/input/stablediffusionv2-all-prompts/sd2_meta_211k_filter.csv\")\n",
    "#df_train = pd.read_csv(\"/kaggle/input/stablediffusionv2-all-prompts/sd2_meta_540k_part1.csv\")\n",
    "#df_train = pd.read_csv(\"/kaggle/input/stablediffusionv2-all-prompts/sd2_meta_540k_part2.csv\")\n",
    "#df_train = pd.read_csv(\"/kaggle/input/stablediffusionv2-all-prompts/sd2_meta_cc660k_part1.csv\")\n",
    "#df_train = pd.read_csv(\"/kaggle/input/stablediffusionv2-all-prompts/sd2_meta_cc660k_part2.csv\")\n",
    "#df_train = pd.read_csv(\"/kaggle/input/stablediffusionv2-all-prompts/sd2_meta_hard_filter.csv\")\n",
    "#df_train = pd.read_csv(\"/kaggle/input/stablediffusionv2-all-prompts/sd2_meta_laioncoco_p1.csv\")\n",
    "#df_train = pd.read_csv(\"/kaggle/input/stablediffusionv2-all-prompts/sd2_meta_pszemraj.csv\")"
   ]
  },
  {
   "cell_type": "code",
   "execution_count": null,
   "metadata": {
    "execution": {
     "iopub.execute_input": "2023-04-29T14:33:16.928514Z",
     "iopub.status.busy": "2023-04-29T14:33:16.926970Z",
     "iopub.status.idle": "2023-04-29T14:33:16.937388Z",
     "shell.execute_reply": "2023-04-29T14:33:16.936268Z",
     "shell.execute_reply.started": "2023-04-29T14:33:16.928471Z"
    },
    "trusted": true
   },
   "outputs": [],
   "source": [
    "class CFG:\n",
    "    device = torch.device(f'cuda:0' if torch.cuda.is_available() else 'cpu')\n",
    "    seed = 42\n",
    "    generator = torch.Generator(device).manual_seed(seed)\n",
    "    image_gen_steps = 50 # 35\n",
    "    image_gen_model_id = \"stabilityai/stable-diffusion-2\"\n",
    "    image_gen_guidance_scale = 9\n",
    "    \n",
    "print(CFG.device)"
   ]
  },
  {
   "cell_type": "code",
   "execution_count": null,
   "metadata": {
    "execution": {
     "iopub.execute_input": "2023-02-28T12:56:07.105765Z",
     "iopub.status.busy": "2023-02-28T12:56:07.10507Z",
     "iopub.status.idle": "2023-02-28T12:56:07.597793Z",
     "shell.execute_reply": "2023-02-28T12:56:07.596702Z",
     "shell.execute_reply.started": "2023-02-28T12:56:07.105728Z"
    },
    "trusted": true
   },
   "outputs": [],
   "source": [
    "#user_secrets = UserSecretsClient()\n",
    "#secret_hf_token = user_secrets.get_secret(\"secret_hf_token\")"
   ]
  },
  {
   "cell_type": "code",
   "execution_count": null,
   "metadata": {
    "execution": {
     "iopub.execute_input": "2023-04-29T14:34:26.077229Z",
     "iopub.status.busy": "2023-04-29T14:34:26.076838Z",
     "iopub.status.idle": "2023-04-29T14:35:06.070140Z",
     "shell.execute_reply": "2023-04-29T14:35:06.069090Z",
     "shell.execute_reply.started": "2023-04-29T14:34:26.077198Z"
    },
    "trusted": true
   },
   "outputs": [],
   "source": [
    "image_gen_model = StableDiffusionPipeline.from_pretrained(\n",
    "    CFG.image_gen_model_id, torch_dtype=torch.float16,\n",
    "    revision=\"fp16\", guidance_scale=9\n",
    ")\n",
    "image_gen_model = image_gen_model.to(CFG.device)"
   ]
  },
  {
   "cell_type": "code",
   "execution_count": null,
   "metadata": {
    "execution": {
     "iopub.execute_input": "2023-04-29T14:36:00.328206Z",
     "iopub.status.busy": "2023-04-29T14:36:00.327829Z",
     "iopub.status.idle": "2023-04-29T14:36:00.334875Z",
     "shell.execute_reply": "2023-04-29T14:36:00.333856Z",
     "shell.execute_reply.started": "2023-04-29T14:36:00.328176Z"
    },
    "trusted": true
   },
   "outputs": [],
   "source": [
    "def generate_image(prompt, model):\n",
    "    image = model(\n",
    "        prompt, num_inference_steps=CFG.image_gen_steps,\n",
    "        generator=CFG.generator,\n",
    "        guidance_scale=CFG.image_gen_guidance_scale\n",
    "    ).images[0]\n",
    "    return image"
   ]
  },
  {
   "cell_type": "code",
   "execution_count": null,
   "metadata": {
    "execution": {
     "iopub.execute_input": "2023-04-29T14:43:17.997338Z",
     "iopub.status.busy": "2023-04-29T14:43:17.996944Z",
     "iopub.status.idle": "2023-04-29T14:43:19.087199Z",
     "shell.execute_reply": "2023-04-29T14:43:19.085888Z",
     "shell.execute_reply.started": "2023-04-29T14:43:17.997300Z"
    },
    "trusted": true
   },
   "outputs": [],
   "source": [
    "!mkdir -p /kaggle/tmp/images/"
   ]
  },
  {
   "cell_type": "code",
   "execution_count": null,
   "metadata": {
    "execution": {
     "iopub.execute_input": "2023-04-29T14:43:23.250025Z",
     "iopub.status.busy": "2023-04-29T14:43:23.249627Z",
     "iopub.status.idle": "2023-04-29T14:44:08.274622Z",
     "shell.execute_reply": "2023-04-29T14:44:08.273666Z",
     "shell.execute_reply.started": "2023-04-29T14:43:23.249992Z"
    },
    "trusted": true
   },
   "outputs": [],
   "source": [
    "for row in df_train.itertuples(False):\n",
    "    img = generate_image(row.prompt, image_gen_model)\n",
    "    img = img.resize((512, 512))\n",
    "    img.save(f'/kaggle/tmp/images/'+row.image_name)\n",
    "    #break"
   ]
  },
  {
   "cell_type": "code",
   "execution_count": null,
   "metadata": {
    "execution": {
     "iopub.execute_input": "2023-04-29T14:45:32.796890Z",
     "iopub.status.busy": "2023-04-29T14:45:32.796271Z",
     "iopub.status.idle": "2023-04-29T14:45:33.928291Z",
     "shell.execute_reply": "2023-04-29T14:45:33.927113Z",
     "shell.execute_reply.started": "2023-04-29T14:45:32.796853Z"
    },
    "trusted": true
   },
   "outputs": [],
   "source": [
    "#!ls /kaggle/tmp/images/"
   ]
  },
  {
   "cell_type": "code",
   "execution_count": null,
   "metadata": {
    "execution": {
     "iopub.execute_input": "2023-04-29T14:45:49.121413Z",
     "iopub.status.busy": "2023-04-29T14:45:49.121036Z",
     "iopub.status.idle": "2023-04-29T14:45:50.156441Z",
     "shell.execute_reply": "2023-04-29T14:45:50.155207Z",
     "shell.execute_reply.started": "2023-04-29T14:45:49.121376Z"
    },
    "trusted": true
   },
   "outputs": [],
   "source": [
    "#!cp -r /kaggle/tmp/images/* ./"
   ]
  },
  {
   "cell_type": "code",
   "execution_count": null,
   "metadata": {
    "execution": {
     "iopub.execute_input": "2023-04-29T14:45:51.894444Z",
     "iopub.status.busy": "2023-04-29T14:45:51.894045Z",
     "iopub.status.idle": "2023-04-29T14:45:52.921659Z",
     "shell.execute_reply": "2023-04-29T14:45:52.920513Z",
     "shell.execute_reply.started": "2023-04-29T14:45:51.894410Z"
    },
    "trusted": true
   },
   "outputs": [],
   "source": [
    "#ls"
   ]
  },
  {
   "cell_type": "code",
   "execution_count": null,
   "metadata": {},
   "outputs": [],
   "source": [
    "%%time\n",
    "!tar -zcf images.tar.gz -C \"/kaggle/tmp/images/\" ."
   ]
  }
 ],
 "metadata": {
  "kernelspec": {
   "display_name": "Python 3",
   "language": "python",
   "name": "python3"
  },
  "language_info": {
   "codemirror_mode": {
    "name": "ipython",
    "version": 3
   },
   "file_extension": ".py",
   "mimetype": "text/x-python",
   "name": "python",
   "nbconvert_exporter": "python",
   "pygments_lexer": "ipython3",
   "version": "3.9.7"
  }
 },
 "nbformat": 4,
 "nbformat_minor": 4
}
