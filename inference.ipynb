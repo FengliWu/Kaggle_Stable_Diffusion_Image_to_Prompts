{
 "cells": [
  {
   "cell_type": "code",
   "execution_count": null,
   "metadata": {
    "trusted": true
   },
   "outputs": [],
   "source": [
    "#!pip install /kaggle/input/stable-diffusion-timm/safetensors-0.3.1-cp37-cp37m-manylinux_2_17_x86_64.manylinux2014_x86_64.whl"
   ]
  },
  {
   "cell_type": "code",
   "execution_count": null,
   "metadata": {
    "trusted": true
   },
   "outputs": [],
   "source": [
    "#!pip install /kaggle/input/stable-diffusion-timm/timm-0.8.17.dev0-py3-none-any.whl"
   ]
  },
  {
   "cell_type": "code",
   "execution_count": null,
   "metadata": {
    "trusted": true
   },
   "outputs": [],
   "source": [
    "#!pip install /kaggle/input/stable-diffusion-timm/ftfy-6.1.1-py3-none-any.whl\n",
    "#!pip install /kaggle/input/stable-diffusion-timm/open_clip_torch-2.16.0-py3-none-any.whl"
   ]
  },
  {
   "cell_type": "code",
   "execution_count": null,
   "metadata": {
    "trusted": true
   },
   "outputs": [],
   "source": [
    "import torchvision"
   ]
  },
  {
   "cell_type": "code",
   "execution_count": null,
   "metadata": {
    "trusted": true
   },
   "outputs": [],
   "source": [
    "import numpy as np\n",
    "import pickle\n",
    "import pandas as pd\n",
    "from tqdm import tqdm\n",
    "import torch\n",
    "from sklearn.model_selection import train_test_split\n",
    "from glob import glob\n",
    "from torch import nn\n",
    "import torch.optim as optim\n",
    "from torch.utils.data import DataLoader\n",
    "from PIL import Image\n",
    "from pathlib import Path\n",
    "import open_clip\n",
    "from transformers import AutoModel, AutoProcessor"
   ]
  },
  {
   "cell_type": "code",
   "execution_count": null,
   "metadata": {
    "trusted": true
   },
   "outputs": [],
   "source": [
    "!mkdir -p /kaggle/images/"
   ]
  },
  {
   "cell_type": "code",
   "execution_count": null,
   "metadata": {
    "trusted": true
   },
   "outputs": [],
   "source": [
    "images = list(Path('/kaggle/input/stable-diffusion-image-to-prompts/images').glob('*.png')) \n",
    "for path in images:\n",
    "    Image.open(path).save(f'/kaggle/images/{path.stem}.jpg')"
   ]
  },
  {
   "cell_type": "code",
   "execution_count": null,
   "metadata": {
    "execution": {
     "iopub.execute_input": "2023-05-08T15:36:09.362576Z",
     "iopub.status.busy": "2023-05-08T15:36:09.361637Z",
     "iopub.status.idle": "2023-05-08T15:36:11.799469Z",
     "shell.execute_reply": "2023-05-08T15:36:11.798028Z",
     "shell.execute_reply.started": "2023-05-08T15:36:09.362520Z"
    },
    "trusted": true
   },
   "outputs": [],
   "source": [
    "from torchvision import transforms\n",
    "def _convert_to_rgb(image):\n",
    "    return image.convert('RGB')\n",
    "#clip_processor = AutoProcessor.from_pretrained(MODEL)\n",
    "clip_model, _, _ = open_clip.create_model_and_transforms('convnext_xxlarge', pretrained=None)#\"layers\": 32\n",
    "clip_processor = transforms.Compose([\n",
    "    transforms.Resize(512, interpolation=transforms.InterpolationMode.BICUBIC),\n",
    "    transforms.CenterCrop(512),\n",
    "    #transforms.RandomHorizontalFlip(p=1.0),\n",
    "    _convert_to_rgb, \n",
    "    transforms.ToTensor(),\n",
    "    transforms.Normalize([0.48145466, 0.4578275, 0.40821073], [0.26862954, 0.26130258, 0.27577711]),])"
   ]
  },
  {
   "cell_type": "code",
   "execution_count": null,
   "metadata": {
    "trusted": true
   },
   "outputs": [],
   "source": [
    "MODEL = '/kaggle/input/huggingface-vision-models/CLIP-ViT-L-14-laion2B-s32B-b82K/'\n",
    "#clip_processor = AutoProcessor.from_pretrained(MODEL)\n",
    "BATCHSIZE=16\n",
    "SAVE_OPT_CKP = False\n",
    "SAVE_MODEL_CKP = True\n",
    "UNFREEZE_START = 18 # set it to lower number when significantly more samples are included.\n",
    "device = torch.device(\"cuda\" if torch.cuda.is_available() else \"cpu\")\n",
    "torch.backends.cuda.matmul.allow_tf32 = True # allow tf32 on matmul\n",
    "torch.backends.cudnn.allow_tf32 = True # allow tf32 on cudnn\n",
    "#clip_model, _, clip_processor = open_clip.create_model_and_transforms('convnext_large_d', pretrained=None)\n",
    "class Net(nn.Module):\n",
    "    def __init__(self):\n",
    "        super(Net, self).__init__()\n",
    "        clip = clip_model\n",
    "        self.vision = clip.visual\n",
    "        self.fc = nn.Linear(1024, 384)\n",
    "\n",
    "    def forward(self, x):\n",
    "        out = self.vision(x)\n",
    "        return self.fc(out)\n",
    "\n",
    "\n",
    "def load_pretrained_model():\n",
    "    model = Net()\n",
    "    return model.to(device)\n",
    "\n",
    "\n",
    "class IMGDataset:\n",
    "    def __init__(self, image_paths, clip_processor=clip_processor):\n",
    "        self.images = image_paths\n",
    "        self.input_processor = clip_processor\n",
    "\n",
    "    def __len__(self):\n",
    "        return len(self.images)\n",
    "\n",
    "    def __getitem__(self, item):\n",
    "        image = Image.open(self.images[item])\n",
    "        image = self.input_processor(image)\n",
    "        return image"
   ]
  },
  {
   "cell_type": "code",
   "execution_count": null,
   "metadata": {
    "trusted": true
   },
   "outputs": [],
   "source": [
    "images = list(Path('/kaggle/images').glob('*.jpg')) \n",
    "model = Net()\n",
    "model.load_state_dict(torch.load('/kaggle/input/stablediffusion-models/train_convnext_xxlarge_littleboat_on1761k_size512_f0_cv0.6569_ep0_unfree24.pt'))\n",
    "\n",
    "model.to(device)\n",
    "model.eval()\n",
    "test_dataloader = DataLoader(dataset=IMGDataset(images),\n",
    "                             batch_size=BATCHSIZE, shuffle=False, num_workers=2)\n",
    "preds = []\n",
    "with torch.no_grad():\n",
    "    for batch_images in tqdm(test_dataloader):\n",
    "        batch_images = batch_images.to(device)\n",
    "\n",
    "        pred = model(batch_images)\n",
    "        preds.append(pred.cpu().numpy())\n"
   ]
  },
  {
   "cell_type": "code",
   "execution_count": null,
   "metadata": {
    "trusted": true
   },
   "outputs": [],
   "source": [
    "\n",
    "imgIds = [i.stem for i in images]\n",
    "EMBEDDING_LENGTH = 384\n",
    "imgId_eId = [\n",
    "    '_'.join(map(str, i)) for i in zip(\n",
    "        np.repeat(imgIds, EMBEDDING_LENGTH),\n",
    "        np.tile(range(EMBEDDING_LENGTH), len(imgIds)))]\n",
    "\n",
    "prompt_embeddings = np.vstack(preds).flatten()#predict(images, CFG.model_path, CFG.model_name, CFG.input_size, CFG.batch_size)\n",
    "submission = pd.DataFrame(\n",
    "    index=imgId_eId,\n",
    "    data=prompt_embeddings,\n",
    "    columns=['val']\n",
    ").rename_axis('imgId_eId')\n",
    "submission.to_csv('submission.csv')"
   ]
  }
 ],
 "metadata": {
  "kernelspec": {
   "display_name": "Python 3",
   "language": "python",
   "name": "python3"
  },
  "language_info": {
   "codemirror_mode": {
    "name": "ipython",
    "version": 3
   },
   "file_extension": ".py",
   "mimetype": "text/x-python",
   "name": "python",
   "nbconvert_exporter": "python",
   "pygments_lexer": "ipython3",
   "version": "3.6.4"
  }
 },
 "nbformat": 4,
 "nbformat_minor": 4
}
